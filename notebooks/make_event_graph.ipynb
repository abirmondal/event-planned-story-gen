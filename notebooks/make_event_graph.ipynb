{
 "cells": [
  {
   "cell_type": "markdown",
   "id": "17e36512",
   "metadata": {},
   "source": [
    "If running in Kaggle, then use the below cell."
   ]
  },
  {
   "cell_type": "code",
   "execution_count": null,
   "id": "2c254067",
   "metadata": {},
   "outputs": [],
   "source": [
    "# !rm -rf /kaggle/working/event-planned-story-gen\n",
    "# !git clone https://github.com/abirmondal/event-planned-story-gen.git"
   ]
  },
  {
   "cell_type": "markdown",
   "id": "a2c192fa",
   "metadata": {},
   "source": [
    "If running in Kaggle, then use the below cell."
   ]
  },
  {
   "cell_type": "code",
   "execution_count": null,
   "id": "3bd15cad",
   "metadata": {},
   "outputs": [],
   "source": [
    "# import sys\n",
    "# from pathlib import Path\n",
    "\n",
    "# # Add the parent directory's path to sys.path\n",
    "# # sys.path requires strings, so we convert the Path object\n",
    "# sys.path.append(str(\"/kaggle/working/event-planned-story-gen\"))"
   ]
  },
  {
   "cell_type": "markdown",
   "id": "176acba7",
   "metadata": {},
   "source": [
    "If running locally, then run this cell."
   ]
  },
  {
   "cell_type": "code",
   "execution_count": null,
   "id": "ab0c9e84",
   "metadata": {},
   "outputs": [],
   "source": [
    "import sys\n",
    "from pathlib import Path\n",
    "\n",
    "# Get the parent directory of the current working directory\n",
    "parent_dir = Path.cwd().parent\n",
    "\n",
    "# Add the parent directory's path to sys.path\n",
    "# sys.path requires strings, so we convert the Path object\n",
    "sys.path.append(str(parent_dir))"
   ]
  },
  {
   "cell_type": "code",
   "execution_count": null,
   "id": "ec1b2c65",
   "metadata": {},
   "outputs": [],
   "source": [
    "from src.graph_construction.event_build import EventGraphBuilder\n",
    "from src.dataset_prep.base_data_class import BaseDataClass"
   ]
  },
  {
   "cell_type": "code",
   "execution_count": null,
   "id": "a31b01b7",
   "metadata": {},
   "outputs": [],
   "source": [
    "data_types = ['train']\n",
    "\n",
    "roc_data = BaseDataClass(\n",
    "    event_filename_suffix='_event.source_new_2',\n",
    "    data_types=data_types\n",
    ")\n",
    "\n",
    "roc_data.load_data(show_data_size=True, event_read=True)\n",
    "df = roc_data.get_data_df()"
   ]
  },
  {
   "cell_type": "code",
   "execution_count": null,
   "id": "0a6e1716",
   "metadata": {},
   "outputs": [],
   "source": [
    "event_graph_build_obj = EventGraphBuilder()"
   ]
  },
  {
   "cell_type": "code",
   "execution_count": null,
   "id": "ce336584",
   "metadata": {},
   "outputs": [],
   "source": [
    "event_graph_build_obj.build_graph(df['train'], event_col='event')\n",
    "event_graph = event_graph_build_obj.get_graph()"
   ]
  },
  {
   "cell_type": "code",
   "execution_count": null,
   "id": "cd23e4cc",
   "metadata": {},
   "outputs": [],
   "source": [
    "print(f\"Number of nodes in the event graph: {len(event_graph.nodes)}\")\n",
    "print(f\"Number of directed edges in the event graph: {len(event_graph.edges)}\")"
   ]
  },
  {
   "cell_type": "code",
   "execution_count": null,
   "id": "1dd80934",
   "metadata": {},
   "outputs": [],
   "source": [
    "event_graph_build_obj.save_graph_pickle(\n",
    "    f'event_graph_new_2.gpickle')\n",
    "event_graph_build_obj.save_graph_gexf(\n",
    "    f'event_graph_new_2.gexf')"
   ]
  }
 ],
 "metadata": {
  "kernelspec": {
   "display_name": ".venv (3.13.6)",
   "language": "python",
   "name": "python3"
  },
  "language_info": {
   "codemirror_mode": {
    "name": "ipython",
    "version": 3
   },
   "file_extension": ".py",
   "mimetype": "text/x-python",
   "name": "python",
   "nbconvert_exporter": "python",
   "pygments_lexer": "ipython3",
   "version": "3.13.6"
  }
 },
 "nbformat": 4,
 "nbformat_minor": 5
}
