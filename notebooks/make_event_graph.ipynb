{
 "cells": [
  {
   "cell_type": "markdown",
   "id": "17e36512",
   "metadata": {},
   "source": [
    "If running in Kaggle, then use the below cell."
   ]
  },
  {
   "cell_type": "code",
   "execution_count": 1,
   "id": "2c254067",
   "metadata": {},
   "outputs": [],
   "source": [
    "# !rm -rf /kaggle/working/event-planned-story-gen\n",
    "# !git clone https://github.com/abirmondal/event-planned-story-gen.git"
   ]
  },
  {
   "cell_type": "markdown",
   "id": "a2c192fa",
   "metadata": {},
   "source": [
    "If running in Kaggle, then use the below cell."
   ]
  },
  {
   "cell_type": "code",
   "execution_count": 2,
   "id": "3bd15cad",
   "metadata": {},
   "outputs": [],
   "source": [
    "# import sys\n",
    "# from pathlib import Path\n",
    "\n",
    "# # Add the parent directory's path to sys.path\n",
    "# # sys.path requires strings, so we convert the Path object\n",
    "# sys.path.append(str(\"/kaggle/working/event-planned-story-gen\"))"
   ]
  },
  {
   "cell_type": "markdown",
   "id": "176acba7",
   "metadata": {},
   "source": [
    "If running locally, then run this cell."
   ]
  },
  {
   "cell_type": "code",
   "execution_count": 3,
   "id": "ab0c9e84",
   "metadata": {},
   "outputs": [],
   "source": [
    "import sys\n",
    "from pathlib import Path\n",
    "\n",
    "# Get the parent directory of the current working directory\n",
    "parent_dir = Path.cwd().parent\n",
    "\n",
    "# Add the parent directory's path to sys.path\n",
    "# sys.path requires strings, so we convert the Path object\n",
    "sys.path.append(str(parent_dir))"
   ]
  },
  {
   "cell_type": "code",
   "execution_count": 4,
   "id": "ec1b2c65",
   "metadata": {},
   "outputs": [],
   "source": [
    "import networkx as nx\n",
    "import pandas as pd\n",
    "import config.dir as dir\n",
    "from src.graph_construction.event_build import EventGraphBuilder"
   ]
  },
  {
   "cell_type": "code",
   "execution_count": 5,
   "id": "a31b01b7",
   "metadata": {},
   "outputs": [
    {
     "name": "stdout",
     "output_type": "stream",
     "text": [
      "Number of event sequence in train data: 88344\n"
     ]
    }
   ],
   "source": [
    "roc_stories_data_path = dir.ROCSTORIES_DIR\n",
    "\n",
    "data_types = ['train']\n",
    "df = {}\n",
    "\n",
    "for data_type in data_types:\n",
    "    events = []\n",
    "    filename = f\"{roc_stories_data_path}/{data_type}_event.source_new.txt\"\n",
    "    with open(filename, 'r', encoding='utf-8') as file:\n",
    "        events = file.read().splitlines()\n",
    "    df[data_type] = pd.DataFrame(events, columns=['event'])\n",
    "    print(f\"Number of event sequence in {data_type} data: {df[data_type].shape[0]}\")"
   ]
  },
  {
   "cell_type": "code",
   "execution_count": 6,
   "id": "773bb825",
   "metadata": {},
   "outputs": [],
   "source": [
    "event_graph = nx.DiGraph()"
   ]
  },
  {
   "cell_type": "code",
   "execution_count": 7,
   "id": "0a6e1716",
   "metadata": {},
   "outputs": [],
   "source": [
    "event_graph_build_obj = EventGraphBuilder(graph=event_graph)"
   ]
  },
  {
   "cell_type": "code",
   "execution_count": 8,
   "id": "ce336584",
   "metadata": {},
   "outputs": [
    {
     "data": {
      "application/vnd.jupyter.widget-view+json": {
       "model_id": "195461c964794191a03a4edc1a534aee",
       "version_major": 2,
       "version_minor": 0
      },
      "text/plain": [
       "Building Event Graph:   0%|          | 0/88344 [00:00<?, ?it/s]"
      ]
     },
     "metadata": {},
     "output_type": "display_data"
    }
   ],
   "source": [
    "event_graph_build_obj.build_graph(df['train'], event_col='event')"
   ]
  },
  {
   "cell_type": "code",
   "execution_count": 9,
   "id": "cd23e4cc",
   "metadata": {},
   "outputs": [
    {
     "name": "stdout",
     "output_type": "stream",
     "text": [
      "Number of nodes in the event graph: 103271\n",
      "Number of directed edges in the event graph: 244278\n"
     ]
    }
   ],
   "source": [
    "print(f\"Number of nodes in the event graph: {len(event_graph.nodes)}\")\n",
    "print(f\"Number of directed edges in the event graph: {len(event_graph.edges)}\")"
   ]
  },
  {
   "cell_type": "code",
   "execution_count": 10,
   "id": "1dd80934",
   "metadata": {},
   "outputs": [
    {
     "name": "stdout",
     "output_type": "stream",
     "text": [
      "Graph saved to C:\\Users\\Abir Mondal\\GitHub Repos\\event-planned-story-gen\\data\\graph\\event_graph_new.gpickle.\n",
      "Graph saved to C:\\Users\\Abir Mondal\\GitHub Repos\\event-planned-story-gen\\data\\graph\\event_graph_new.gexf.\n"
     ]
    }
   ],
   "source": [
    "event_graph_build_obj.save_graph_pickle(\n",
    "    f'event_graph_new.gpickle')\n",
    "event_graph_build_obj.save_graph_gexf(\n",
    "    f'event_graph_new.gexf')"
   ]
  }
 ],
 "metadata": {
  "kernelspec": {
   "display_name": ".venv (3.13.6)",
   "language": "python",
   "name": "python3"
  },
  "language_info": {
   "codemirror_mode": {
    "name": "ipython",
    "version": 3
   },
   "file_extension": ".py",
   "mimetype": "text/x-python",
   "name": "python",
   "nbconvert_exporter": "python",
   "pygments_lexer": "ipython3",
   "version": "3.13.6"
  }
 },
 "nbformat": 4,
 "nbformat_minor": 5
}
