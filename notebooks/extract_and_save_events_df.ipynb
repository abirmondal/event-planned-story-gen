{
 "cells": [
  {
   "cell_type": "markdown",
   "id": "0ef02d3d",
   "metadata": {},
   "source": [
    "If running in Kaggle, then use the below cell."
   ]
  },
  {
   "cell_type": "code",
   "execution_count": null,
   "id": "9007e719",
   "metadata": {},
   "outputs": [],
   "source": [
    "# !rm -rf /kaggle/working/event-planned-story-gen\n",
    "# !git clone https://github.com/abirmondal/event-planned-story-gen.git"
   ]
  },
  {
   "cell_type": "markdown",
   "id": "ad6e5956",
   "metadata": {},
   "source": [
    "If running in Kaggle, then use the below cell."
   ]
  },
  {
   "cell_type": "code",
   "execution_count": null,
   "id": "75d65b76",
   "metadata": {},
   "outputs": [],
   "source": [
    "# import sys\n",
    "# from pathlib import Path\n",
    "\n",
    "# # Add the parent directory's path to sys.path\n",
    "# # sys.path requires strings, so we convert the Path object\n",
    "# sys.path.append(str(\"/kaggle/working/event-planned-story-gen\"))"
   ]
  },
  {
   "cell_type": "markdown",
   "id": "eb24d250",
   "metadata": {},
   "source": [
    "If running locally, then run this cell."
   ]
  },
  {
   "cell_type": "code",
   "execution_count": null,
   "id": "07dfff00",
   "metadata": {},
   "outputs": [],
   "source": [
    "import sys\n",
    "from pathlib import Path\n",
    "\n",
    "# Get the parent directory of the current working directory\n",
    "parent_dir = Path.cwd().parent\n",
    "\n",
    "# Add the parent directory's path to sys.path\n",
    "# sys.path requires strings, so we convert the Path object\n",
    "sys.path.append(str(parent_dir))"
   ]
  },
  {
   "cell_type": "code",
   "execution_count": null,
   "id": "5ce61f81",
   "metadata": {},
   "outputs": [],
   "source": [
    "from src.event_extraction.event_extract import EventExtractor\n",
    "from src.dataset_prep.base_data_class import BaseDataClass"
   ]
  },
  {
   "cell_type": "code",
   "execution_count": null,
   "id": "d4905043",
   "metadata": {},
   "outputs": [],
   "source": [
    "data_types = ['train', 'test', 'val']\n",
    "data_cols = ['source', 'target']\n",
    "\n",
    "roc_data = BaseDataClass(\n",
    "    data_types=data_types,\n",
    "    data_cols=data_cols\n",
    ")\n",
    "\n",
    "roc_data.load_data(show_data_size=True)\n",
    "df = roc_data.get_data_df()"
   ]
  },
  {
   "cell_type": "code",
   "execution_count": null,
   "id": "a8ab16f7",
   "metadata": {},
   "outputs": [],
   "source": [
    "spacy_model_name = \"en_core_web_lg\"\n",
    "if not spacy.util.is_package(spacy_model_name):\n",
    "    spacy.cli.download(spacy_model_name)\n",
    "else:\n",
    "    print(f\"Spacy model `{spacy_model_name}` is already installed.\")"
   ]
  },
  {
   "cell_type": "code",
   "execution_count": null,
   "id": "f3884435",
   "metadata": {},
   "outputs": [],
   "source": [
    "try:\n",
    "    spacy.require_gpu()\n",
    "    print(\"GPU activated!\")\n",
    "except:\n",
    "    print(\"GPU not available, falling back to CPU...\")\n",
    "\n",
    "nlp = spacy.load(spacy_model_name)"
   ]
  },
  {
   "cell_type": "code",
   "execution_count": null,
   "id": "e087d80e",
   "metadata": {},
   "outputs": [],
   "source": [
    "event_extractor_obj = EventExtractor(nlp)"
   ]
  },
  {
   "cell_type": "code",
   "execution_count": null,
   "id": "816dbede",
   "metadata": {},
   "outputs": [],
   "source": [
    "for df_type in data_types:\n",
    "    print(f\"Processing {df_type} data...\")\n",
    "    event_extractor_obj.extract_events_from_story_df(\n",
    "        df[df_type], df_type, batch_size=256, is_save=True, file_name='event.source_new_2')\n",
    "    print(f\"Extracted events for {df_type} data.\")"
   ]
  }
 ],
 "metadata": {
  "kernelspec": {
   "display_name": ".venv (3.13.6)",
   "language": "python",
   "name": "python3"
  },
  "language_info": {
   "codemirror_mode": {
    "name": "ipython",
    "version": 3
   },
   "file_extension": ".py",
   "mimetype": "text/x-python",
   "name": "python",
   "nbconvert_exporter": "python",
   "pygments_lexer": "ipython3",
   "version": "3.13.6"
  }
 },
 "nbformat": 4,
 "nbformat_minor": 5
}
